{
  "cells": [
    {
      "cell_type": "markdown",
      "metadata": {},
      "source": [
        "# ETL Step 1: Combining CVS Files\n",
        "\n",
        "## Objective\n",
        "Merge the two raw CSV files (**ai_job_dataset.csv** and **ai_job_dataset.csv**) into a single cosnolidated dataset, while handling differences in columns.\n",
        "\n",
        "## Dateset\n",
        "- **ai_job_dataset.csv** - Part 1 (19 columns, no `salary_local`)\n",
        "- **ai_job_dataset1.csv** - Part 2 (20 columns, includes `salary_local`)\n",
        "\n",
        "##  Column Differences\n",
        "- The second file includes an extra column: `salary_local`.\n",
        "\n",
        "##  Process\n",
        "1. Load both CSV files with **pandas**.\n",
        "2. Align their columns by adding any missing columns (like `salary_local`) with `NaN` values in the first dataset.\n",
        "3. Concatenate the datasets into one.\n",
        "4. Save the combined dataset as `ai_jobs_combined.csv`.\n",
        "\n",
        "##  Expected Output\n",
        "- A single CSV file with **all rows from both parts** and **consistent columns**.\n",
        "- Missing values for `salary_local` in the first file are represented as `NaN` for later cleaning in ETL.\n"
      ]
    },
    {
      "cell_type": "code",
      "execution_count": 1,
      "metadata": {},
      "outputs": [],
      "source": [
        "# Import necessary libraries\n",
        "import pandas as pd\n",
        "import numpy as np\n",
        "import matplotlib.pyplot as plt\n",
        "import seaborn as sns\n",
        "import os"
      ]
    },
    {
      "cell_type": "code",
      "execution_count": 7,
      "metadata": {},
      "outputs": [
        {
          "name": "stdout",
          "output_type": "stream",
          "text": [
            " Combined dataset saved. Total rows: 30000\n",
            " Final columns: ['job_id', 'job_title', 'salary_usd', 'salary_currency', 'salary_local', 'experience_level', 'employment_type', 'company_location', 'company_size', 'employee_residence', 'remote_ratio', 'required_skills', 'education_required', 'years_experience', 'industry', 'posting_date', 'application_deadline', 'job_description_length', 'benefits_score', 'company_name']\n"
          ]
        }
      ],
      "source": [
        "# Load the dataset\n",
        "df1 = pd.read_csv(\"../data/inputs/raw/ai_job_dataset.csv\")\n",
        "df2 = pd.read_csv(\"../data/inputs/raw/ai_job_dataset1.csv\")\n",
        "\n",
        "# Align the columns of the two dataframes\n",
        "for col in df2.columns:\n",
        "    if col not in df1.columns:\n",
        "        df1[col] = pd.NA # Fill missing columns with NA\n",
        "\n",
        "# Ensure both datasets have same column order\n",
        "df1 = df1[df2.columns]\n",
        "\n",
        "# Concatenate the two datasets\n",
        "combined_df = pd.concat([df1, df2], ignore_index=True)\n",
        "\n",
        "# Save the combined dataset to a new CSV file\n",
        "combined_df.to_csv(\"../data/inputs/raw/ai_job_dataset_combined.csv\", index=False)\n",
        "\n",
        "# Print the shape of the combined dataset\n",
        "print(f\" Combined dataset saved. Total rows: {combined_df.shape[0]}\")\n",
        "print(f\" Final columns: {combined_df.columns.tolist()}\")"
      ]
    }
  ],
  "metadata": {
    "accelerator": "GPU",
    "colab": {
      "name": "Data Practitioner Jupyter Notebook.ipynb",
      "provenance": [],
      "toc_visible": true
    },
    "kernelspec": {
      "display_name": ".venv",
      "language": "python",
      "name": "python3"
    },
    "language_info": {
      "codemirror_mode": {
        "name": "ipython",
        "version": 3
      },
      "file_extension": ".py",
      "mimetype": "text/x-python",
      "name": "python",
      "nbconvert_exporter": "python",
      "pygments_lexer": "ipython3",
      "version": "3.12.8"
    },
    "orig_nbformat": 2
  },
  "nbformat": 4,
  "nbformat_minor": 2
}
